{
 "cells": [
  {
   "cell_type": "code",
   "execution_count": 38,
   "metadata": {},
   "outputs": [],
   "source": [
    "import pandas as pd\n",
    "import numpy as np"
   ]
  },
  {
   "cell_type": "markdown",
   "metadata": {},
   "source": [
    "all hard coded data from excel sheet in this function. "
   ]
  },
  {
   "cell_type": "code",
   "execution_count": 39,
   "metadata": {},
   "outputs": [
    {
     "name": "stdout",
     "output_type": "stream",
     "text": [
      "makeDF error: make sure the file is in the same folder as this script!\n"
     ]
    },
    {
     "ename": "UnboundLocalError",
     "evalue": "local variable 'data' referenced before assignment",
     "output_type": "error",
     "traceback": [
      "\u001b[1;31m---------------------------------------------------------------------------\u001b[0m",
      "\u001b[1;31mUnboundLocalError\u001b[0m                         Traceback (most recent call last)",
      "\u001b[1;32mc:\\Users\\Garrett Evans\\Desktop\\Zomboid-ID-Sorter\\sorter.ipynb Cell 3\u001b[0m line \u001b[0;36m<cell line: 26>\u001b[1;34m()\u001b[0m\n\u001b[0;32m     <a href='vscode-notebook-cell:/c%3A/Users/Garrett%20Evans/Desktop/Zomboid-ID-Sorter/sorter.ipynb#W2sZmlsZQ%3D%3D?line=21'>22</a>\u001b[0m     \u001b[39mprint\u001b[39m(\u001b[39m'\u001b[39m\u001b[39mthe DF columns are:\u001b[39m\u001b[39m\\t\u001b[39;00m\u001b[39mmodID\u001b[39m\u001b[39m\\t\u001b[39;00m\u001b[39mworkshopID\u001b[39m\u001b[39m\\t\u001b[39;00m\u001b[39mtype\u001b[39m\u001b[39m'\u001b[39m)\n\u001b[0;32m     <a href='vscode-notebook-cell:/c%3A/Users/Garrett%20Evans/Desktop/Zomboid-ID-Sorter/sorter.ipynb#W2sZmlsZQ%3D%3D?line=22'>23</a>\u001b[0m     \u001b[39mreturn\u001b[39;00m pd\u001b[39m.\u001b[39mDataFrame(data, columns\u001b[39m=\u001b[39m[\u001b[39m'\u001b[39m\u001b[39mmodID\u001b[39m\u001b[39m'\u001b[39m, \u001b[39m'\u001b[39m\u001b[39mworkshopID\u001b[39m\u001b[39m'\u001b[39m, \u001b[39m'\u001b[39m\u001b[39mtype\u001b[39m\u001b[39m'\u001b[39m])\n\u001b[1;32m---> <a href='vscode-notebook-cell:/c%3A/Users/Garrett%20Evans/Desktop/Zomboid-ID-Sorter/sorter.ipynb#W2sZmlsZQ%3D%3D?line=25'>26</a>\u001b[0m df \u001b[39m=\u001b[39m makeDF()\n",
      "\u001b[1;32mc:\\Users\\Garrett Evans\\Desktop\\Zomboid-ID-Sorter\\sorter.ipynb Cell 3\u001b[0m line \u001b[0;36mmakeDF\u001b[1;34m()\u001b[0m\n\u001b[0;32m      <a href='vscode-notebook-cell:/c%3A/Users/Garrett%20Evans/Desktop/Zomboid-ID-Sorter/sorter.ipynb#W2sZmlsZQ%3D%3D?line=6'>7</a>\u001b[0m     \u001b[39mprint\u001b[39m(\u001b[39m'\u001b[39m\u001b[39mmakeDF error: make sure the file is in the same folder as this script!\u001b[39m\u001b[39m'\u001b[39m)\n\u001b[0;32m     <a href='vscode-notebook-cell:/c%3A/Users/Garrett%20Evans/Desktop/Zomboid-ID-Sorter/sorter.ipynb#W2sZmlsZQ%3D%3D?line=10'>11</a>\u001b[0m \u001b[39m# because I'm lazy and don't want to rewrite my code\u001b[39;00m\n\u001b[1;32m---> <a href='vscode-notebook-cell:/c%3A/Users/Garrett%20Evans/Desktop/Zomboid-ID-Sorter/sorter.ipynb#W2sZmlsZQ%3D%3D?line=11'>12</a>\u001b[0m modIDs \u001b[39m=\u001b[39m data[\u001b[39m'\u001b[39m\u001b[39mTitle\u001b[39m\u001b[39m'\u001b[39m]\n\u001b[0;32m     <a href='vscode-notebook-cell:/c%3A/Users/Garrett%20Evans/Desktop/Zomboid-ID-Sorter/sorter.ipynb#W2sZmlsZQ%3D%3D?line=12'>13</a>\u001b[0m workshopIDs \u001b[39m=\u001b[39m data[\u001b[39m'\u001b[39m\u001b[39mID\u001b[39m\u001b[39m'\u001b[39m]\n\u001b[0;32m     <a href='vscode-notebook-cell:/c%3A/Users/Garrett%20Evans/Desktop/Zomboid-ID-Sorter/sorter.ipynb#W2sZmlsZQ%3D%3D?line=13'>14</a>\u001b[0m types \u001b[39m=\u001b[39m data[\u001b[39m'\u001b[39m\u001b[39mType\u001b[39m\u001b[39m'\u001b[39m]\n",
      "\u001b[1;31mUnboundLocalError\u001b[0m: local variable 'data' referenced before assignment"
     ]
    }
   ],
   "source": [
    "def makeDF(): \n",
    "    # Zomboid Mods - FRESH.csv\n",
    "    try:\n",
    "        name = input('enter filename\\n>>>')\n",
    "        data = pd.read_csv(name) \n",
    "    except:\n",
    "        print('makeDF error: make sure the file is in the same folder as this script!')\n",
    "    \n",
    "\n",
    "\n",
    "    # because I'm lazy and don't want to rewrite my code\n",
    "    modIDs = data['Title']\n",
    "    workshopIDs = data['ID']\n",
    "    types = data['Type']\n",
    "\n",
    "    assert len(modIDs) == len(workshopIDs) == len(types)\n",
    "\n",
    "    data = []\n",
    "    for i in range(len(modIDs)):\n",
    "        data.append([modIDs[i], workshopIDs[i], types[i]])\n",
    "    \n",
    "    print('the DF columns are:\\tmodID\\tworkshopID\\ttype')\n",
    "    return pd.DataFrame(data, columns=['modID', 'workshopID', 'type'])\n",
    "\n",
    "\n",
    "df = makeDF()"
   ]
  },
  {
   "cell_type": "code",
   "execution_count": 40,
   "metadata": {},
   "outputs": [
    {
     "name": "stdout",
     "output_type": "stream",
     "text": [
      "205\n",
      "190\n",
      "mod IDs:\n",
      "Diederiks Tile Palooza;DylansTiles;Cookie_Tiles;EN_Flags;tkTiles_01;AzaMountainTiles;BigZombieMonkeys_tile_pack;EN_Newburbs;FantaStreetTiles_01;GreensTiles;melos_tiles_for_miles_pack;OujinjinTiles;PertsPartyTiles;simonMDsTiles;SkizotsTiles;TryhonestyTiles;Tsarslib;AquatsarYachtClub;jiggasAddictionMod;jiggasGreenfireMod;EN_Flags_Craft;Ashenwood;FortKnoxLinked;FortKnoxRoad;RfMCtBF_addon;MonmouthCounty_new;BedfordFalls;AddamsMansion;DJBetsysFarm;BBL;Blackwood;Breakpoint;CONRTF;CedarHill;Chernaville;Chestown;Chinatown expansion;Chinatown;FarmHouseMatrioshka;coryerdon;DeadinHongKong;EVAC_Muldraugh;catball_eastriverside;EdsAutoSalvage;NewEkron;Elysium_Island;FORTREDSTONE;Fort Rock Ridge;Grapeseed;Greenleaf;Heavens Hill;Hilltop;Myhometown;Hopefalls;hopewell_eng_zombies;KingsmouthKY;lakeivytownship;Lalafell's Heart Lake Town;Lande Desolate Camping;LittleTownship;HouseLakeMatrioshka;MRE;McCoysBunker;military fuel depot;Muldraugh-Westoutskirts ShippingCo;Muldraugh Fire Department;Nettle Township;ParkingLot;Orchidwood(official version);Otr;OverlookHotel;Petroville;RabbitHashKY;rbr;rbrA2;rbrA;RavenCreek;ForestRangerHideaway01;RiversidemansionBrang;rosewoodcabins;pz_rosewoodexp_map;RosewoodVHSGunStores;Seaside;Speck_Map;SimonMDSpencerMansionLootable;SPH;SuperGigaMart;TeraMart - East Side;TheMallSouthMuldraughFIX;TheMuseumID;TWDprison;TrimbleCountyPowerStation;UncleRedsBunker;UncleRedsBunkerRedux;Utopia;WestPointTrailerParkAndVhsStore;wilboreky;Winchester;CorOTRroad;OtrSR;Pitstop;Grapeseed;FORTREDSTONE;Louisville;RV_Interior_MP;fhqMotoriusZoneRVIntVehicleTweakerAPI;ItemTweakerAPI;91range;90niva;89def110;89def90;85merc;67commando;TMC_Trolley;87cruiser;88golfMk2;88jettaMk2;86oshkoshP19A;Fuelsideindicator;82oshkoshM911;92amgeneralM998;59meteor;amclub;74amgeneralM151A2;78amgeneralM35A2;78amgeneralM49A2c;78amgeneralM50A3;84merc;83amgeneralM923;80kz1000;92nissanGTR;Bmwe30;49powerWagon;90zanella50cc;90pierceArrowBB_Bicycles;Swatpack;AuthenticZ-Current;SpnHair;2507488373;SpnCloth;WaifuDakis;SpnOpenCloth;AnimeTV;Thop'sReskin;GunSuicide;HHair;waterPipes;SimplePlayablePianos4150;SkillRecoveryJournal;RainWash;ModManager;CleanDirt;NoLighterNeeded;ModManagerServer;SimpleReadWhileWalking41;JSRetroBooks;DropRollMod;FixTooltipLag;RemoveDebris;WaterPipes Plus;SearchContainers;LearnToDrive;P4PumpPury;TPAM;TPAMCO;TPAMVO;GuitarScare;P4HasBeenRead;fhqMotoriusZoneRVIntATA_Bus;SuperBulldozer;fhqMotoriusZone;fhqExpVehSpawn;BB_ShermanBrita;SimpleConvertToBritaSRC;AuthenticAnimations;PLLoot;PLLootG;FH;Brita_2;YakiHS;Alert;STR;STRSJ;MilPoncho;manageContainers;MoreDescriptionForTraits4166;TheUnlimited;UndeadSurvivor;YakiHSBasegameTexture;SmokinJoesRocksacks;ItemTweakerAPIExtraClothingAddon;sapphcookingbettersorting;BB_Utils;SearchModeAPI41;Simple_Vehicle_Recycling;KPAP;REORDER_CONTAINERS;LightSwitchOverhaul;Draadpack;MoreBuilds;VileM113APC;\n",
      "workshop IDs:\n",
      "2337452747;2599752664;2925574774;2784607980;2384329562;2898065560;2804428637;2774834715;2554699200;2734679675;2879745353;2844829195;2837923608;2852704777;2740919036;2844685624;2392709985;2392987599;1703604612;2820363371;2595249356;2595785944;2944975401;2887123503;522891356;2879804540;2925086605;2917162495;2536865912;2852608098;2766626985;2915656059;2734683361;2840889213;2895386882;2730975264;1847175810;2782415851;2797636826;2928391710;2851982772;2485420813;2712480036;2819655145;1516836158;2806456685;2463499011;2778799110;2834407334;2812151695;2911028142;2910845864;2817859141;2434339338;2252982049;2900006618;2782410640;2542249811;2725036390;2778676843;2794721857;2940881350;2872461779;2789097802;2965081618;2671414643;2889235913;926737806;2881386527;2886261613;2815966702;2807152393;2196102849;2796134549;2886919248;2907242510;2718350686;2922087098;2783179512;2938016617;2932892342;2985730744;2878074695;2873362550;2909294200;2881370621;2905092251;2802755864;2906125013;2868565253;2721653030;2899635920;2890129618;2892795238;2603239477;2597946327;2680926895;2822286426;3014569316;1430463738;566115016;2409333430;2422681177;2441990998;2443275640;2469388752;2478247379;2478768005;2489148104;2516123638;2522173579;2566953935;2616986064;2618213077;2642541073;2772575623;2778576730;2785549133;2799152995;2805630347;2811383142;2818847163;2846036306;2867498750;2900580391;2922441474;2942793445;2988491347;2091564445;2335368829;2463184726;2507488373;2684285534;2756636139;2812326159;2847406722;2922538577;2402057349;2456540487;2464581798;2465017864;2503622437;2657661246;2694448564;2711057211;2714198296;2725216703;2845952197;2908032114;2908614026;2915430406;2927744729;2942582690;2946364542;3038135810;2890440427;2717792692;2929779569;2544353492;2592358528;2713275891;2791656602;2793164190;2983995267;2200148440;2696120270;2207282444;2279084780;2447729538;2460154811;2557401447;2623855083;2629286881;2650547917;2685168362;2709502667;2713921292;2761200458;2790502657;2810800927;2832136889;2850135071;2851764922;2852895651;2891237357;2901962885;2941065090;2962414740;515555911;1983277711;\n"
     ]
    }
   ],
   "source": [
    "tiles = df[df['type'] == 'Tiles']\n",
    "dependency = df[df['type'] == 'Dependency']\n",
    "map = df[df['type'] == 'Map']\n",
    "other = df[(df['type'] != 'Tiles') & (df['type'] != 'Dependency') & (df['type'] != 'Map')]\n",
    "\n",
    "assert len(df) == len(tiles) + len(dependency) + len(map) + len(other)\n",
    "\n",
    "modIDs = tiles['modID'].tolist() + dependency['modID'].tolist() + map['modID'].tolist() + other['modID'].tolist()\n",
    "#modIDs = tiles['modID'].tolist() + dependency['modID'].tolist() + other['modID'].tolist()\n",
    "\n",
    "workshopIDs = tiles['workshopID'].tolist() + dependency['workshopID'].tolist() + map['workshopID'].tolist() + other['workshopID'].tolist()\n",
    "#workshopIDs = tiles['workshopID'].tolist() + dependency['workshopID'].tolist() + other['workshopID'].tolist()\n",
    "workshopIDs = list(dict.fromkeys(workshopIDs)) # remove duplicate IDs since many modIDs can use a single workshop ID\n",
    "\n",
    "assert modIDs >= workshopIDs\n",
    "print(len(modIDs))\n",
    "print(len(workshopIDs))\n",
    "\n",
    "print(f'mod IDs:\\n{\"\".join(modIDs)}')\n",
    "print(f'workshop IDs:\\n{\"\".join(workshopIDs)}')"
   ]
  }
 ],
 "metadata": {
  "kernelspec": {
   "display_name": "Python 3",
   "language": "python",
   "name": "python3"
  },
  "language_info": {
   "codemirror_mode": {
    "name": "ipython",
    "version": 3
   },
   "file_extension": ".py",
   "mimetype": "text/x-python",
   "name": "python",
   "nbconvert_exporter": "python",
   "pygments_lexer": "ipython3",
   "version": "3.10.11"
  },
  "orig_nbformat": 4
 },
 "nbformat": 4,
 "nbformat_minor": 2
}
